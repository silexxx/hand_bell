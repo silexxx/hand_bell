{
 "cells": [
  {
   "cell_type": "code",
   "execution_count": null,
   "metadata": {},
   "outputs": [
    {
     "name": "stdout",
     "output_type": "stream",
     "text": [
      "yes\n",
      "yes\n"
     ]
    }
   ],
   "source": [
    "import cv2\n",
    "import numpy as np\n",
    "\n",
    "import pygame\n",
    "\n",
    "import time\n",
    "\n",
    "cap = cv2.VideoCapture(0)\n",
    "while( cap.isOpened() ) :\n",
    "    ret,img = cap.read()\n",
    "    gray = cv2.cvtColor(img,cv2.COLOR_BGR2GRAY)\n",
    "    blur = cv2.GaussianBlur(gray,(5,5),0)\n",
    "    ret,thresh1 = cv2.threshold(blur,70,255,cv2.THRESH_BINARY_INV+cv2.THRESH_OTSU)\n",
    "  \n",
    "    contours, hierarchy = cv2.findContours(thresh1,cv2.RETR_TREE,cv2.CHAIN_APPROX_SIMPLE)\n",
    "    drawing = np.zeros(img.shape,np.uint8)\n",
    "\n",
    "    max_area=0\n",
    "   \n",
    "    for i in range(len(contours)):\n",
    "            cnt=contours[i]\n",
    "            area = cv2.contourArea(cnt)\n",
    "            if(area>max_area):\n",
    "                max_area=area\n",
    "                ci=i\n",
    "    cnt=contours[ci]\n",
    "    hull = cv2.convexHull(cnt)\n",
    "    moments = cv2.moments(cnt)\n",
    "    if moments['m00']!=0:\n",
    "                cx = int(moments['m10']/moments['m00']) # cx = M10/M00\n",
    "                cy = int(moments['m01']/moments['m00']) # cy = M01/M00\n",
    "              \n",
    "    centr=(cx,cy)       \n",
    "    cv2.circle(img,centr,5,[0,0,255],2)       \n",
    "    cv2.drawContours(drawing,[cnt],0,(0,255,0),2) \n",
    "    cv2.drawContours(drawing,[hull],0,(0,0,255),2) \n",
    "          \n",
    "    cnt = cv2.approxPolyDP(cnt,0.01*cv2.arcLength(cnt,True),True)\n",
    "    hull = cv2.convexHull(cnt,returnPoints = False)\n",
    "    \n",
    "    if(1):\n",
    "        defects = cv2.convexityDefects(cnt,hull)\n",
    "        mind=0\n",
    "        maxd=0\n",
    "        for i in range(defects.shape[0]):\n",
    "            s,e,f,d = defects[i,0]\n",
    "            start = tuple(cnt[s][0])\n",
    "            end = tuple(cnt[e][0])\n",
    "            far = tuple(cnt[f][0])\n",
    "            dist = cv2.pointPolygonTest(cnt,centr,True)\n",
    "            cv2.line(img,start,end,[0,255,0],2)\n",
    "                    \n",
    "            cv2.circle(img,far,5,[0,0,255],-1)\n",
    "            #print(i)\n",
    "            if i==3:\n",
    "                print(\"yes\")\n",
    "                pygame.init()\n",
    "\n",
    "                pygame.mixer.music.load(\"bell.mp3\")\n",
    "\n",
    "                pygame.mixer.music.play()\n",
    "\n",
    "                time.sleep(5)\n",
    "                \n",
    "            i=0\n",
    "    cv2.imshow('output',drawing)\n",
    "    cv2.imshow('input',img)\n",
    "    if i==1:\n",
    "        print(\"yes\")\n",
    "                \n",
    "    k = cv2.waitKey(10)\n",
    "    if k == 27:\n",
    "        break"
   ]
  },
  {
   "cell_type": "code",
   "execution_count": 2,
   "metadata": {},
   "outputs": [],
   "source": [
    "import pygame\n",
    "\n",
    "import time\n",
    "\n",
    "pygame.init()\n",
    "\n",
    "pygame.mixer.music.load(\"bell.mp3\")\n",
    "\n",
    "pygame.mixer.music.play()\n",
    "\n",
    "time.sleep(10)\n"
   ]
  },
  {
   "cell_type": "code",
   "execution_count": null,
   "metadata": {},
   "outputs": [],
   "source": []
  }
 ],
 "metadata": {
  "kernelspec": {
   "display_name": "Python 3",
   "language": "python",
   "name": "python3"
  },
  "language_info": {
   "codemirror_mode": {
    "name": "ipython",
    "version": 3
   },
   "file_extension": ".py",
   "mimetype": "text/x-python",
   "name": "python",
   "nbconvert_exporter": "python",
   "pygments_lexer": "ipython3",
   "version": "3.7.6"
  }
 },
 "nbformat": 4,
 "nbformat_minor": 4
}
